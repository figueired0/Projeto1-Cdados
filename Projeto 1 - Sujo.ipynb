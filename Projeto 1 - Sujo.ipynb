{
 "cells": [
  {
   "cell_type": "markdown",
   "metadata": {},
   "source": [
    "___\n",
    "\n",
    "# Projeto 1 de Ciência dos Dados\n",
    "___\n",
    "\n",
    "## Protótipo sujo\n",
    "    Igor Figueiredo - 2A"
   ]
  },
  {
   "cell_type": "markdown",
   "metadata": {},
   "source": [
    "ÍTENS A SEREM COLOCADOS:\n",
    "<h2> Introdução </h2>\n",
    "<h2> Pergunta </h2>\n",
    "<h2> Hipótese </h2>\n",
    "<h2> Mecanismo </h2>"
   ]
  },
  {
   "cell_type": "markdown",
   "metadata": {},
   "source": [
    "hipotese\n",
    "mecanismo\n",
    "dados\n",
    "análise\n",
    "explicação\n"
   ]
  },
  {
   "cell_type": "markdown",
   "metadata": {},
   "source": [
    "<h2> Escolhendo as variáveis </h2>"
   ]
  },
  {
   "cell_type": "markdown",
   "metadata": {},
   "source": [
    "<h4> Possíveis grupos a serem analisados: </h4>\n",
    "<ul>\n",
    "    <li> ONU </li>\n",
    "    <li> OMC </li>\n",
    "    <li> FMI </li>\n",
    "    <li> OIT </li>\n",
    "    <li> UN </li>\n",
    "    <li> FAO </li>\n",
    "    <li> UE </li>\n",
    "    <li> IARC </li>\n",
    "    <li> OCDE </li>\n",
    "    <li> Otan </li>\n",
    "    <li> MERCOSUL </li>\n",
    "</ul>"
   ]
  },
  {
   "cell_type": "markdown",
   "metadata": {},
   "source": [
    "<h2> Escolhendo um Grupo: </h2>\n",
    "União Européia (EU)"
   ]
  },
  {
   "cell_type": "markdown",
   "metadata": {},
   "source": [
    "<h3> Possível pergunta: </h3>\n",
    "<ul>\n",
    "    <li> Países que se juntaram à União Europeia passam a investir mais no estrangeiro? </li>\n",
    "</ul>\n",
    "<p>\n",
    "<h3> Possível Hipótese: </h3>\n",
    "<ul>\n",
    "    <li> Uma vez que se esta na organização, o País passa a investir mais nos estrangeiros </li>\n",
    "</ul>\n",
    "<h3> Possível Mecanismo </h3>\n",
    "<ul>\n",
    "    <li> Por meio de uma estabilidade de um mercado comum Europeu, proposto a partir da integração econômico-comercial, cuja expressão concreta é o mercado único, ou seja, a livre circulação de e bens, serviços, capitais e trabalhadores entre os Estados-membros; os Países que se juntaram a União Europeia (EU) passam a investir mais em estrangeiros que buscam uma melhoria de vida. "
   ]
  },
  {
   "cell_type": "markdown",
   "metadata": {},
   "source": [
    "<h5> Países pertencentes a União Europeia: </h5>\n",
    "<ul>\n",
    "    <li> Alemanha </li> \n",
    "    <li> Áustria </li>\n",
    "    <li> Bélgica </li>\n",
    "    <li> Bulgária </li>\n",
    "    <li> Chipre </li>\n",
    "    <li> Croácia </li>\n",
    "    <li> Dinamarca </li>\n",
    "    <li> Eslováquia </li>\n",
    "    <li> Eslovênia </li>\n",
    "    <li> Espanha </li>\n",
    "    <li> Estônia </li>\n",
    "    <li> Finlândia </li>\n",
    "    <li> França </li>\n",
    "    <li> Grécia </li>\n",
    "    <li> Holanda </li>\n",
    "    <li> Hungria </li>\n",
    "    <li> Irlanda </li>\n",
    "    <li> Itália </li>\n",
    "    <li> Letônia </li>\n",
    "    <li> Lituânia </li>\n",
    "    <li> Luxemburgo </li>\n",
    "    <li> Malta </li>\n",
    "    <li> Polônia </li>\n",
    "    <li> Portugal </li>\n",
    "    <li> República </li>\n",
    "    <li> Tcheca </li>\n",
    "    <li> Romênia </li>\n",
    "    <li> Suécia </li>\n",
    "</ul>"
   ]
  },
  {
   "cell_type": "markdown",
   "metadata": {},
   "source": [
    "<h2> Determinando tempo a ser trabalhhado </h2>\n",
    "<h4> Países que adrentraram a uniao Europeira em 1995 </h4>\n",
    "<ul>\n",
    "    <li> Áustria </li> \n",
    "    <li> Finlândia </li> \n",
    "    <li> Suécia </li> \n",
    "</ul>\n",
    "\n",
    "Malta, Eslovênia, Hungria\n",
    "\n",
    "<p> Site base: <a> https://europa.eu/european-union/about-eu/countries_pt </a>\n",
    "    </p>\n",
    "<h6> Tempo a ser analisado: antes de 1995 e depois de 1995 </h6> --> FALTA DADOS\n",
    "<br> portanto tempo a ser analisado = 2004"
   ]
  },
  {
   "cell_type": "markdown",
   "metadata": {},
   "source": [
    "<h2> PROGRAMAÇÃO: </h2>\n",
    "Analisando os dados disponíveis"
   ]
  },
  {
   "cell_type": "code",
   "execution_count": 980,
   "metadata": {},
   "outputs": [],
   "source": [
    "# Importando bibliotecas\n",
    "\n",
    "%matplotlib inline\n",
    "import pandas as pd\n",
    "import numpy as np\n",
    "import math as math\n",
    "from scipy import stats\n",
    "import matplotlib.pyplot as plt\n",
    "import os\n",
    "import seaborn as sns"
   ]
  },
  {
   "cell_type": "code",
   "execution_count": 981,
   "metadata": {},
   "outputs": [
    {
     "name": "stdout",
     "output_type": "stream",
     "text": [
      "Esperamos trabalhar no diretório:\n",
      "/Users/Figueiredo/Documents/Insper/2º semestre/Ciência dos dados/Projetos/Projeto 1/Planilhas Excel\n"
     ]
    }
   ],
   "source": [
    "# Definindo o diretório:\n",
    "\n",
    "meu_diretorio = \"/Users/Figueiredo/Documents/Insper/2º semestre/Ciência dos dados/Projetos/Projeto 1/Planilhas Excel\"\n",
    "os.chdir(meu_diretorio)\n",
    "print('Esperamos trabalhar no diretório:')\n",
    "print(os.getcwd())\n",
    "\n",
    "# r\"/Users/Figueiredo/Documents/Insper/2º semestre/Ciência dos dados/Projetos/Projeto 1/ NOME DA PASTA/ NOME ARQUIVO\""
   ]
  },
  {
   "cell_type": "code",
   "execution_count": 982,
   "metadata": {},
   "outputs": [],
   "source": [
    "# Leitura dos arquivos em Excel \n",
    "\n",
    "# Principal arquivo a ser analisado:\n",
    "# Investimento_estrangeiro_Outflow  = pd.read_excel('Foreign direct investment, net outflows (% of GDP).xlsx')\n",
    "\n",
    "# Possíveis arquivos relevantes:\n",
    "# Taxa_desempregados_25a54          = pd.read_excel('Aged 25-54 unemployment rate (%).xlsx')\n",
    "# Qualidade_de_vida                 = pd.read_excel('Data quality - Population.xlsx')\n",
    "# Investimento_estrangeiro_Inflow   = pd.read_excel('Foreign direct investment, net inflows (% of GDP).xlsx')\n",
    "# Ajuda_do_governo                  = pd.read_excel('Government and society aid given (% of aid).xlsx')\n",
    "# Trabalhadores_industria           = pd.read_excel('Industry workers (% of labour force).xlsx')\n",
    "# Long_term_unemplyment             = pd.read_excel('Long term unemployment rate (%).xlsx')\n",
    "# Trabalhadores_serviço             = pd.read_excel('Service workers (% of labour force).xlsx')\n",
    "# Taxa_população_15a19              = pd.read_excel('Population aged 15-19 years, both sexes (%).xlsx')\n",
    "# Taxa_população_20a39              = pd.read_excel('Population aged 20-39 years, both sexes (%).xlsx')\n",
    "# Taxa_empregados_15a24             = pd.read_excel('Aged 15-24 employment rate (%).xlsx')\n",
    "# Taxa_desempregados_15a24          = pd.read_excel('Aged 15-24 unemployment rate (%).xlsx')\n",
    "# Crescimento_populacional          = pd.read_excel('Population growth (annual %).xlsx')\n",
    "# Trabalhadores_salariados          = pd.read_excel('Salaried workers (% of labour force).xlsx')\n",
    "# taxa_de_imigração                 = pd.read_excel(\"UN_MigrantStockTotal_2015.xlsx\")\n",
    "\n",
    "# Os dois documentos abaixos não podem ser lidos\n",
    "# GDP_per_capta                  = pd.read_excel('GDP/capita growth.xlsx')\n",
    "# GDP_por_empregado              = pd.read_excel('GDP/employee (US$, inflation-adjusted).xlsx')\n",
    "\n",
    "\n",
    "\n",
    "Investimento_estrangeiro_Outflow  = pd.read_excel('Foreign direct investment, net outflows (% of GDP).xlsx')\n",
    "Porcent_trabalhadores             = pd.read_excel(\"salaried_workers_percent_of_non_agricultural_employment-2.xlsx\")\n",
    "imigração                         = pd.read_excel(\"sm_pop_totl_zs.xlsx\")"
   ]
  },
  {
   "cell_type": "code",
   "execution_count": 989,
   "metadata": {},
   "outputs": [
    {
     "data": {
      "text/html": [
       "<div>\n",
       "<style scoped>\n",
       "    .dataframe tbody tr th:only-of-type {\n",
       "        vertical-align: middle;\n",
       "    }\n",
       "\n",
       "    .dataframe tbody tr th {\n",
       "        vertical-align: top;\n",
       "    }\n",
       "\n",
       "    .dataframe thead th {\n",
       "        text-align: right;\n",
       "    }\n",
       "</style>\n",
       "<table border=\"1\" class=\"dataframe\">\n",
       "  <thead>\n",
       "    <tr style=\"text-align: right;\">\n",
       "      <th></th>\n",
       "      <th>Está na EU</th>\n",
       "    </tr>\n",
       "    <tr>\n",
       "      <th>country</th>\n",
       "      <th></th>\n",
       "    </tr>\n",
       "  </thead>\n",
       "  <tbody>\n",
       "    <tr>\n",
       "      <th>Malta</th>\n",
       "      <td>sim</td>\n",
       "    </tr>\n",
       "    <tr>\n",
       "      <th>Slovenia</th>\n",
       "      <td>sim</td>\n",
       "    </tr>\n",
       "    <tr>\n",
       "      <th>Hungary</th>\n",
       "      <td>sim</td>\n",
       "    </tr>\n",
       "    <tr>\n",
       "      <th>Japan</th>\n",
       "      <td>não</td>\n",
       "    </tr>\n",
       "    <tr>\n",
       "      <th>Mexico</th>\n",
       "      <td>não</td>\n",
       "    </tr>\n",
       "    <tr>\n",
       "      <th>Argentina</th>\n",
       "      <td>não</td>\n",
       "    </tr>\n",
       "  </tbody>\n",
       "</table>\n",
       "</div>"
      ],
      "text/plain": [
       "          Está na EU\n",
       "country             \n",
       "Malta            sim\n",
       "Slovenia         sim\n",
       "Hungary          sim\n",
       "Japan            não\n",
       "Mexico           não\n",
       "Argentina        não"
      ]
     },
     "execution_count": 989,
     "metadata": {},
     "output_type": "execute_result"
    }
   ],
   "source": [
    "imigração_index = imigração.set_index(\"country\")\n",
    "\n",
    "paises_na_EU = []\n",
    "paises_EU = [\"France\", \"Germany\", \"Belgium\", \"Italy\", \"Luxembourg\", \"Netherlands\", \"Denmark\", \"Ireland\", \"United Kingdom\", \"Greece\", \"Portugal\", \"Spain\", \"Austria\", \"Finland\", \"Sweden\", \"Hungary\", \"Cyprus\", \"Czech Republic\", \"Estonia\", \"Latvia\", \"Lithuania\", \"Malta\", \"Poland\", \"Slovak Republic\", \"Slovenia\", \"Bulgaria\", \"Romania\", \"Croatia\"]\n",
    "for pais in imigração[\"country\"]:\n",
    "    if pais in paises_EU:\n",
    "        paises_na_EU.append(\"sim\")\n",
    "    else:\n",
    "        paises_na_EU.append('não')\n",
    "imigração_index[\"Está na EU\"] = paises_na_EU\n",
    "\n",
    "Quali = imigração_index.loc[[\"Malta\", \"Slovenia\", \"Hungary\",\"Japan\",\"Mexico\",\"Argentina\"],[\"Está na EU\"]]\n",
    "Quali\n",
    "\n",
    "# Porcent_trabalhadores_index.loc[[\"Austria\",\"Finland\",\"Sweden\",\"Brazil\",\"United States\",\"Argentina\"],[1993,1994,1995,1996,1997,1998,1999,2000,\"Está na EU\"]]"
   ]
  },
  {
   "cell_type": "code",
   "execution_count": 986,
   "metadata": {},
   "outputs": [
    {
     "data": {
      "image/png": "[encoded data removed]",
      "text/plain": [
       "<Figure size 432x288 with 1 Axes>"
      ]
     },
     "metadata": {
      "needs_background": "light"
     },
     "output_type": "display_data"
    }
   ],
   "source": [
    "pais=[\"Malta\", \"Slovenia\", \"Hungary\",\"Japan\",\"Mexico\",\"Argentina\"]\n",
    "anos=[1990,1995,2000,2005,2010,2015]\n",
    "for i in pais:\n",
    "    plt.plot(imigração_index.loc[i,anos], label=i)\n",
    "plt.grid()\n",
    "plt.axvline(x=2004, color = \"grey\", linestyle = \"--\", label = \"entrada\")\n",
    "plt.legend()\n",
    "plt.ylabel(\"Imigração\")\n",
    "plt.title(\"Taxa de imigração ao longo dos anos\")\n",
    "plt.show()"
   ]
  },
  {
   "cell_type": "code",
   "execution_count": 985,
   "metadata": {
    "scrolled": true
   },
   "outputs": [
    {
     "data": {
      "image/png": "[encoded data removed]",
      "text/plain": [
       "<Figure size 432x288 with 1 Axes>"
      ]
     },
     "metadata": {
      "needs_background": "light"
     },
     "output_type": "display_data"
    }
   ],
   "source": [
    "img = imigração_index.loc[[\"Malta\", \"Slovenia\", \"Hungary\",\"Japan\",\"Mexico\",\"Argentina\"],[1990,1995,2000,2005,2010,2015]]\n",
    "img.plot(kind=\"bar\")\n",
    "plt.grid()"
   ]
  },
  {
   "cell_type": "code",
   "execution_count": 960,
   "metadata": {},
   "outputs": [
    {
     "data": {
      "text/plain": [
       "country\n",
       "Malta        5.500000\n",
       "Slovenia     9.080000\n",
       "Hungary      3.213333\n",
       "Japan        1.346667\n",
       "Mexico       0.552667\n",
       "Argentina    4.330000\n",
       "dtype: float64"
      ]
     },
     "execution_count": 960,
     "metadata": {},
     "output_type": "execute_result"
    }
   ],
   "source": [
    "img_antes = imigração_index.loc[[\"Malta\", \"Slovenia\", \"Hungary\",\"Japan\",\"Mexico\",\"Argentina\"],[1995,2000,2005]]\n",
    "# img.transpose()\n",
    "img_antes_m = img_antes.transpose().mean()\n",
    "img_antes_m"
   ]
  },
  {
   "cell_type": "code",
   "execution_count": 961,
   "metadata": {},
   "outputs": [
    {
     "data": {
      "text/plain": [
       "country\n",
       "Malta         8.036667\n",
       "Slovenia     11.226667\n",
       "Hungary       4.183333\n",
       "Japan         1.626667\n",
       "Mexico        0.801667\n",
       "Argentina     4.486667\n",
       "dtype: float64"
      ]
     },
     "execution_count": 961,
     "metadata": {},
     "output_type": "execute_result"
    }
   ],
   "source": [
    "img_depois = imigração_index.loc[[\"Malta\", \"Slovenia\", \"Hungary\",\"Japan\",\"Mexico\",\"Argentina\"],[2005,2010,2015]]\n",
    "# img.transpose()\n",
    "img_depois_m = img_depois.transpose().mean()\n",
    "img_depois_m"
   ]
  },
  {
   "cell_type": "code",
   "execution_count": 962,
   "metadata": {},
   "outputs": [
    {
     "data": {
      "image/png": "[encoded data removed]",
      "text/plain": [
       "<Figure size 432x288 with 1 Axes>"
      ]
     },
     "metadata": {
      "needs_background": "light"
     },
     "output_type": "display_data"
    }
   ],
   "source": [
    "# dados_paisesGDP = img#.loc[[\"Malta\", \"Slovenia\", \"Hungary\",\"Japan\",\"Mexico\",\"Argentina\"]]\n",
    "\n",
    "media = {\"Malta\":[5.500000,8.036667],\"Slovenia\":[9.080000,11.226667],\"Hungary\":[3.213333,4.183333],\"Japan\":[1.346667,1.626667],\"Mexico\":[0.552667,0.801667],\"Argentina\":[4.330000,4.486667]}\n",
    "dados_media = pd.DataFrame.from_dict(media, orient = \"index\", columns = [\"10 anos antes da entrada\",\"10 anos depois da entrada\"])\n",
    "\n",
    "dados_media.plot(kind = 'bar', color = (\"purple\",\"blue\"))\n",
    "plt.ylabel(\"Imigração\")\n",
    "plt.title('Média do crescimento imigratório')\n",
    "plt.grid()\n",
    "plt.tight_layout()\n",
    "\n",
    "\n"
   ]
  },
  {
   "cell_type": "markdown",
   "metadata": {},
   "source": [
    "## Tabalho"
   ]
  },
  {
   "cell_type": "code",
   "execution_count": 977,
   "metadata": {},
   "outputs": [
    {
     "data": {
      "text/html": [
       "<div>\n",
       "<style scoped>\n",
       "    .dataframe tbody tr th:only-of-type {\n",
       "        vertical-align: middle;\n",
       "    }\n",
       "\n",
       "    .dataframe tbody tr th {\n",
       "        vertical-align: top;\n",
       "    }\n",
       "\n",
       "    .dataframe thead th {\n",
       "        text-align: right;\n",
       "    }\n",
       "</style>\n",
       "<table border=\"1\" class=\"dataframe\">\n",
       "  <thead>\n",
       "    <tr style=\"text-align: right;\">\n",
       "      <th></th>\n",
       "      <th>1999</th>\n",
       "      <th>2000</th>\n",
       "      <th>2001</th>\n",
       "      <th>2002</th>\n",
       "      <th>2003</th>\n",
       "      <th>2004</th>\n",
       "      <th>2005</th>\n",
       "      <th>2006</th>\n",
       "      <th>2007</th>\n",
       "      <th>2008</th>\n",
       "      <th>2009</th>\n",
       "      <th>2010</th>\n",
       "      <th>2011</th>\n",
       "      <th>2012</th>\n",
       "      <th>2013</th>\n",
       "      <th>2014</th>\n",
       "      <th>2015</th>\n",
       "      <th>2016</th>\n",
       "      <th>2017</th>\n",
       "    </tr>\n",
       "    <tr>\n",
       "      <th>country</th>\n",
       "      <th></th>\n",
       "      <th></th>\n",
       "      <th></th>\n",
       "      <th></th>\n",
       "      <th></th>\n",
       "      <th></th>\n",
       "      <th></th>\n",
       "      <th></th>\n",
       "      <th></th>\n",
       "      <th></th>\n",
       "      <th></th>\n",
       "      <th></th>\n",
       "      <th></th>\n",
       "      <th></th>\n",
       "      <th></th>\n",
       "      <th></th>\n",
       "      <th></th>\n",
       "      <th></th>\n",
       "      <th></th>\n",
       "    </tr>\n",
       "  </thead>\n",
       "  <tbody>\n",
       "    <tr>\n",
       "      <th>Malta</th>\n",
       "      <td>NaN</td>\n",
       "      <td>88.8</td>\n",
       "      <td>88.7</td>\n",
       "      <td>86.5</td>\n",
       "      <td>87.0</td>\n",
       "      <td>86.9</td>\n",
       "      <td>86.9</td>\n",
       "      <td>87.1</td>\n",
       "      <td>86.5</td>\n",
       "      <td>87.2</td>\n",
       "      <td>86.8</td>\n",
       "      <td>86.2</td>\n",
       "      <td>87.0</td>\n",
       "      <td>87.1</td>\n",
       "      <td>86.8</td>\n",
       "      <td>86.8</td>\n",
       "      <td>86.9</td>\n",
       "      <td>87.1</td>\n",
       "      <td>86.0</td>\n",
       "    </tr>\n",
       "    <tr>\n",
       "      <th>Slovenia</th>\n",
       "      <td>90.3</td>\n",
       "      <td>91.6</td>\n",
       "      <td>90.9</td>\n",
       "      <td>91.3</td>\n",
       "      <td>92.6</td>\n",
       "      <td>91.8</td>\n",
       "      <td>92.1</td>\n",
       "      <td>91.3</td>\n",
       "      <td>91.7</td>\n",
       "      <td>92.5</td>\n",
       "      <td>91.0</td>\n",
       "      <td>89.6</td>\n",
       "      <td>89.8</td>\n",
       "      <td>90.2</td>\n",
       "      <td>89.8</td>\n",
       "      <td>89.0</td>\n",
       "      <td>88.8</td>\n",
       "      <td>89.4</td>\n",
       "      <td>89.4</td>\n",
       "    </tr>\n",
       "    <tr>\n",
       "      <th>Hungary</th>\n",
       "      <td>86.6</td>\n",
       "      <td>86.8</td>\n",
       "      <td>87.2</td>\n",
       "      <td>88.0</td>\n",
       "      <td>87.9</td>\n",
       "      <td>86.8</td>\n",
       "      <td>87.5</td>\n",
       "      <td>88.5</td>\n",
       "      <td>88.5</td>\n",
       "      <td>88.7</td>\n",
       "      <td>88.5</td>\n",
       "      <td>88.7</td>\n",
       "      <td>88.8</td>\n",
       "      <td>89.4</td>\n",
       "      <td>89.8</td>\n",
       "      <td>89.8</td>\n",
       "      <td>90.1</td>\n",
       "      <td>90.3</td>\n",
       "      <td>90.8</td>\n",
       "    </tr>\n",
       "    <tr>\n",
       "      <th>Japan</th>\n",
       "      <td>86.4</td>\n",
       "      <td>86.8</td>\n",
       "      <td>87.3</td>\n",
       "      <td>87.6</td>\n",
       "      <td>87.8</td>\n",
       "      <td>NaN</td>\n",
       "      <td>88.1</td>\n",
       "      <td>NaN</td>\n",
       "      <td>NaN</td>\n",
       "      <td>89.1</td>\n",
       "      <td>89.3</td>\n",
       "      <td>89.4</td>\n",
       "      <td>90.2</td>\n",
       "      <td>90.3</td>\n",
       "      <td>90.4</td>\n",
       "      <td>91.9</td>\n",
       "      <td>90.7</td>\n",
       "      <td>91.1</td>\n",
       "      <td>91.2</td>\n",
       "    </tr>\n",
       "    <tr>\n",
       "      <th>Mexico</th>\n",
       "      <td>NaN</td>\n",
       "      <td>NaN</td>\n",
       "      <td>NaN</td>\n",
       "      <td>68.9</td>\n",
       "      <td>68.7</td>\n",
       "      <td>68.7</td>\n",
       "      <td>69.6</td>\n",
       "      <td>70.1</td>\n",
       "      <td>70.3</td>\n",
       "      <td>71.0</td>\n",
       "      <td>70.0</td>\n",
       "      <td>71.1</td>\n",
       "      <td>70.5</td>\n",
       "      <td>71.2</td>\n",
       "      <td>71.3</td>\n",
       "      <td>72.0</td>\n",
       "      <td>71.9</td>\n",
       "      <td>71.9</td>\n",
       "      <td>72.2</td>\n",
       "    </tr>\n",
       "    <tr>\n",
       "      <th>Argentina</th>\n",
       "      <td>72.5</td>\n",
       "      <td>72.4</td>\n",
       "      <td>71.9</td>\n",
       "      <td>71.7</td>\n",
       "      <td>73.7</td>\n",
       "      <td>74.4</td>\n",
       "      <td>74.8</td>\n",
       "      <td>75.8</td>\n",
       "      <td>NaN</td>\n",
       "      <td>76.6</td>\n",
       "      <td>76.3</td>\n",
       "      <td>76.9</td>\n",
       "      <td>77.0</td>\n",
       "      <td>77.1</td>\n",
       "      <td>76.5</td>\n",
       "      <td>76.3</td>\n",
       "      <td>NaN</td>\n",
       "      <td>NaN</td>\n",
       "      <td>74.7</td>\n",
       "    </tr>\n",
       "  </tbody>\n",
       "</table>\n",
       "</div>"
      ],
      "text/plain": [
       "           1999  2000  2001  2002  2003  2004  2005  2006  2007  2008  2009  \\\n",
       "country                                                                       \n",
       "Malta       NaN  88.8  88.7  86.5  87.0  86.9  86.9  87.1  86.5  87.2  86.8   \n",
       "Slovenia   90.3  91.6  90.9  91.3  92.6  91.8  92.1  91.3  91.7  92.5  91.0   \n",
       "Hungary    86.6  86.8  87.2  88.0  87.9  86.8  87.5  88.5  88.5  88.7  88.5   \n",
       "Japan      86.4  86.8  87.3  87.6  87.8   NaN  88.1   NaN   NaN  89.1  89.3   \n",
       "Mexico      NaN   NaN   NaN  68.9  68.7  68.7  69.6  70.1  70.3  71.0  70.0   \n",
       "Argentina  72.5  72.4  71.9  71.7  73.7  74.4  74.8  75.8   NaN  76.6  76.3   \n",
       "\n",
       "           2010  2011  2012  2013  2014  2015  2016  2017  \n",
       "country                                                    \n",
       "Malta      86.2  87.0  87.1  86.8  86.8  86.9  87.1  86.0  \n",
       "Slovenia   89.6  89.8  90.2  89.8  89.0  88.8  89.4  89.4  \n",
       "Hungary    88.7  88.8  89.4  89.8  89.8  90.1  90.3  90.8  \n",
       "Japan      89.4  90.2  90.3  90.4  91.9  90.7  91.1  91.2  \n",
       "Mexico     71.1  70.5  71.2  71.3  72.0  71.9  71.9  72.2  \n",
       "Argentina  76.9  77.0  77.1  76.5  76.3   NaN   NaN  74.7  "
      ]
     },
     "execution_count": 977,
     "metadata": {},
     "output_type": "execute_result"
    }
   ],
   "source": [
    "Porcent_trabalhadores_index = Porcent_trabalhadores.set_index(\"country\")\n",
    "pt = Porcent_trabalhadores_index.loc[[\"Malta\", \"Slovenia\", \"Hungary\",\"Japan\",\"Mexico\",\"Argentina\"],[1999,2000,2001,2002,2003,2004,2005,2006,2007,2008,2009,2010,2011,2012,2013,2014,2015,2016,2017]]\n",
    "pt"
   ]
  },
  {
   "cell_type": "code",
   "execution_count": 964,
   "metadata": {},
   "outputs": [
    {
     "data": {
      "image/png": "[encoded data removed]",
      "text/plain": [
       "<Figure size 432x288 with 1 Axes>"
      ]
     },
     "metadata": {
      "needs_background": "light"
     },
     "output_type": "display_data"
    }
   ],
   "source": [
    "p=[\"Malta\", \"Slovenia\", \"Hungary\",\"Japan\",\"Mexico\",\"Argentina\"]\n",
    "a=[1999,2000,2001,2002,2003,2004,2005,2006,2007,2008,2009,2010,2011,2012,2013,2014,2015,2016,2017]\n",
    "\n",
    "for i in p:\n",
    "    plt.plot(Porcent_trabalhadores_index.loc[i,a], label=i)\n",
    "plt.grid()\n",
    "plt.axvline(x=2004, color = \"grey\", linestyle = \"--\", label = \"entrada\")\n",
    "plt.legend()\n",
    "plt.ylabel(\"Mão de obra\")\n",
    "plt.title(\"Taxa de mão de obra ao longo dos anos\")\n",
    "plt.show()"
   ]
  },
  {
   "cell_type": "code",
   "execution_count": 965,
   "metadata": {},
   "outputs": [
    {
     "data": {
      "text/plain": [
       "country\n",
       "Malta        87.580000\n",
       "Slovenia     91.416667\n",
       "Hungary      87.216667\n",
       "Japan        87.180000\n",
       "Mexico       68.766667\n",
       "Argentina    72.766667\n",
       "dtype: float64"
      ]
     },
     "execution_count": 965,
     "metadata": {},
     "output_type": "execute_result"
    }
   ],
   "source": [
    "pt_antes = Porcent_trabalhadores_index.loc[[\"Malta\", \"Slovenia\", \"Hungary\",\"Japan\",\"Mexico\",\"Argentina\"],[1999,2000,2001,2002,2003,2004]]\n",
    "# img.transpose()\n",
    "pt_antes_m = pt_antes.transpose().mean()\n",
    "pt_antes_m"
   ]
  },
  {
   "cell_type": "code",
   "execution_count": 966,
   "metadata": {},
   "outputs": [
    {
     "data": {
      "text/plain": [
       "country\n",
       "Malta        86.900000\n",
       "Slovenia     91.733333\n",
       "Hungary      88.083333\n",
       "Japan        88.833333\n",
       "Mexico       69.950000\n",
       "Argentina    75.580000\n",
       "dtype: float64"
      ]
     },
     "execution_count": 966,
     "metadata": {},
     "output_type": "execute_result"
    }
   ],
   "source": [
    "pt_depois = Porcent_trabalhadores_index.loc[[\"Malta\", \"Slovenia\", \"Hungary\",\"Japan\",\"Mexico\",\"Argentina\"],[2004,2005,2006,2007,2008,2009]]\n",
    "# img.transpose()\n",
    "pt_depois_m = pt_depois.transpose().mean()\n",
    "pt_depois_m"
   ]
  },
  {
   "cell_type": "code",
   "execution_count": 967,
   "metadata": {},
   "outputs": [
    {
     "data": {
      "image/png": "[encoded data removed]",
      "text/plain": [
       "<Figure size 432x288 with 1 Axes>"
      ]
     },
     "metadata": {
      "needs_background": "light"
     },
     "output_type": "display_data"
    }
   ],
   "source": [
    "media = {\"Malta\":[87.580000,86.900000],\"Slovenia\":[91.416667,91.733333],\"Hungary\":[87.216667,88.083333],\"Japan\":[87.180000,87.180000],\"Mexico\":[68.766667,69.950000],\"Argentina\":[72.766667,75.580000]}\n",
    "dados_media = pd.DataFrame.from_dict(media, orient = \"index\", columns = [\"5 anos antes da entrada\",\"5 anos depois da entrada\"])\n",
    "\n",
    "dados_media.plot(kind = 'bar', color = (\"purple\",\"blue\"))\n",
    "plt.ylabel(\"Imigração\")\n",
    "plt.title('Média do crescimento imigratório')\n",
    "plt.grid()\n",
    "plt.tight_layout()\n",
    "\n"
   ]
  },
  {
   "cell_type": "markdown",
   "metadata": {},
   "source": [
    "## Investimento"
   ]
  },
  {
   "cell_type": "code",
   "execution_count": 968,
   "metadata": {},
   "outputs": [],
   "source": [
    "# Investimento_estrangeiro_Outflow"
   ]
  },
  {
   "cell_type": "code",
   "execution_count": 969,
   "metadata": {},
   "outputs": [],
   "source": [
    "Investimento_estrangeiro_Outflow_index = Investimento_estrangeiro_Outflow.set_index(\"Foreign direct investment, net outflows (% of GDP)\")\n",
    "inv1 = Investimento_estrangeiro_Outflow_index.loc[[\"Malta\", \"Slovenia\", \"Hungary\",\"Japan\",\"Mexico\",\"Argentina\"],['1999','2000','2001','2002','2003','2004','2005','2006','2007','2008','2009','2010']]"
   ]
  },
  {
   "cell_type": "code",
   "execution_count": 970,
   "metadata": {},
   "outputs": [
    {
     "data": {
      "text/html": [
       "<div>\n",
       "<style scoped>\n",
       "    .dataframe tbody tr th:only-of-type {\n",
       "        vertical-align: middle;\n",
       "    }\n",
       "\n",
       "    .dataframe tbody tr th {\n",
       "        vertical-align: top;\n",
       "    }\n",
       "\n",
       "    .dataframe thead th {\n",
       "        text-align: right;\n",
       "    }\n",
       "</style>\n",
       "<table border=\"1\" class=\"dataframe\">\n",
       "  <thead>\n",
       "    <tr style=\"text-align: right;\">\n",
       "      <th></th>\n",
       "      <th>1999</th>\n",
       "      <th>2000</th>\n",
       "      <th>2001</th>\n",
       "      <th>2002</th>\n",
       "      <th>2003</th>\n",
       "      <th>2004</th>\n",
       "      <th>2005</th>\n",
       "      <th>2006</th>\n",
       "      <th>2007</th>\n",
       "      <th>2008</th>\n",
       "      <th>2009</th>\n",
       "      <th>2010</th>\n",
       "    </tr>\n",
       "    <tr>\n",
       "      <th>country</th>\n",
       "      <th></th>\n",
       "      <th></th>\n",
       "      <th></th>\n",
       "      <th></th>\n",
       "      <th></th>\n",
       "      <th></th>\n",
       "      <th></th>\n",
       "      <th></th>\n",
       "      <th></th>\n",
       "      <th></th>\n",
       "      <th></th>\n",
       "      <th></th>\n",
       "    </tr>\n",
       "  </thead>\n",
       "  <tbody>\n",
       "    <tr>\n",
       "      <th>Malta</th>\n",
       "      <td>1.511032</td>\n",
       "      <td>0.538813</td>\n",
       "      <td>0.246463</td>\n",
       "      <td>-0.685938</td>\n",
       "      <td>11.516652</td>\n",
       "      <td>0.130620</td>\n",
       "      <td>-0.407870</td>\n",
       "      <td>0.469339</td>\n",
       "      <td>0.210496</td>\n",
       "      <td>3.570323</td>\n",
       "      <td>1.644642</td>\n",
       "      <td>1.056229</td>\n",
       "    </tr>\n",
       "    <tr>\n",
       "      <th>Slovenia</th>\n",
       "      <td>0.213808</td>\n",
       "      <td>0.326836</td>\n",
       "      <td>0.647351</td>\n",
       "      <td>0.653517</td>\n",
       "      <td>1.632131</td>\n",
       "      <td>1.625108</td>\n",
       "      <td>1.760750</td>\n",
       "      <td>2.324561</td>\n",
       "      <td>3.804962</td>\n",
       "      <td>2.706605</td>\n",
       "      <td>0.496253</td>\n",
       "      <td>-0.155946</td>\n",
       "    </tr>\n",
       "    <tr>\n",
       "      <th>Hungary</th>\n",
       "      <td>0.512938</td>\n",
       "      <td>1.269021</td>\n",
       "      <td>0.690924</td>\n",
       "      <td>0.425022</td>\n",
       "      <td>1.988386</td>\n",
       "      <td>1.094550</td>\n",
       "      <td>2.021356</td>\n",
       "      <td>16.528908</td>\n",
       "      <td>49.726384</td>\n",
       "      <td>45.869579</td>\n",
       "      <td>2.974801</td>\n",
       "      <td>-35.560074</td>\n",
       "    </tr>\n",
       "    <tr>\n",
       "      <th>Japan</th>\n",
       "      <td>0.509679</td>\n",
       "      <td>0.675610</td>\n",
       "      <td>0.939996</td>\n",
       "      <td>0.817115</td>\n",
       "      <td>0.680197</td>\n",
       "      <td>0.672129</td>\n",
       "      <td>0.998155</td>\n",
       "      <td>1.150023</td>\n",
       "      <td>1.678593</td>\n",
       "      <td>2.680773</td>\n",
       "      <td>1.482694</td>\n",
       "      <td>1.048251</td>\n",
       "    </tr>\n",
       "    <tr>\n",
       "      <th>Mexico</th>\n",
       "      <td>NaN</td>\n",
       "      <td>NaN</td>\n",
       "      <td>0.707926</td>\n",
       "      <td>0.137241</td>\n",
       "      <td>0.178983</td>\n",
       "      <td>0.583316</td>\n",
       "      <td>0.762591</td>\n",
       "      <td>0.604707</td>\n",
       "      <td>0.796998</td>\n",
       "      <td>0.105725</td>\n",
       "      <td>0.795478</td>\n",
       "      <td>1.310015</td>\n",
       "    </tr>\n",
       "    <tr>\n",
       "      <th>Argentina</th>\n",
       "      <td>0.610280</td>\n",
       "      <td>0.317036</td>\n",
       "      <td>0.059873</td>\n",
       "      <td>-0.614600</td>\n",
       "      <td>0.597066</td>\n",
       "      <td>0.441450</td>\n",
       "      <td>0.715670</td>\n",
       "      <td>1.139232</td>\n",
       "      <td>0.576845</td>\n",
       "      <td>0.425779</td>\n",
       "      <td>0.231714</td>\n",
       "      <td>0.261640</td>\n",
       "    </tr>\n",
       "  </tbody>\n",
       "</table>\n",
       "</div>"
      ],
      "text/plain": [
       "               1999      2000      2001      2002       2003      2004  \\\n",
       "country                                                                  \n",
       "Malta      1.511032  0.538813  0.246463 -0.685938  11.516652  0.130620   \n",
       "Slovenia   0.213808  0.326836  0.647351  0.653517   1.632131  1.625108   \n",
       "Hungary    0.512938  1.269021  0.690924  0.425022   1.988386  1.094550   \n",
       "Japan      0.509679  0.675610  0.939996  0.817115   0.680197  0.672129   \n",
       "Mexico          NaN       NaN  0.707926  0.137241   0.178983  0.583316   \n",
       "Argentina  0.610280  0.317036  0.059873 -0.614600   0.597066  0.441450   \n",
       "\n",
       "               2005       2006       2007       2008      2009       2010  \n",
       "country                                                                    \n",
       "Malta     -0.407870   0.469339   0.210496   3.570323  1.644642   1.056229  \n",
       "Slovenia   1.760750   2.324561   3.804962   2.706605  0.496253  -0.155946  \n",
       "Hungary    2.021356  16.528908  49.726384  45.869579  2.974801 -35.560074  \n",
       "Japan      0.998155   1.150023   1.678593   2.680773  1.482694   1.048251  \n",
       "Mexico     0.762591   0.604707   0.796998   0.105725  0.795478   1.310015  \n",
       "Argentina  0.715670   1.139232   0.576845   0.425779  0.231714   0.261640  "
      ]
     },
     "execution_count": 970,
     "metadata": {},
     "output_type": "execute_result"
    }
   ],
   "source": [
    "# a = inv.rename(index={1: 'Country'})\n",
    "# a = inv.rename(columns={'Foreign direct investment, net outflows (% of GDP)': 'country'})\n",
    "# inv.index.names = ['country']\n",
    "# inv.columns.names = ['Foreign direct investment, net outflows (% of GDP)']\n",
    "inv = inv1.rename_axis('country').rename_axis('', axis='columns')\n",
    "inv"
   ]
  },
  {
   "cell_type": "code",
   "execution_count": 971,
   "metadata": {},
   "outputs": [
    {
     "data": {
      "text/plain": [
       "Foreign direct investment, net outflows (% of GDP)\n",
       "Malta        2.209607\n",
       "Slovenia     0.849792\n",
       "Hungary      0.996807\n",
       "Japan        0.715788\n",
       "Mexico       0.401867\n",
       "Argentina    0.235184\n",
       "dtype: float64"
      ]
     },
     "execution_count": 971,
     "metadata": {},
     "output_type": "execute_result"
    }
   ],
   "source": [
    "inv_antes = Investimento_estrangeiro_Outflow_index.loc[[\"Malta\", \"Slovenia\", \"Hungary\",\"Japan\",\"Mexico\",\"Argentina\"],['1999','2000','2001','2002','2003','2004']]\n",
    "# img.transpose()\n",
    "inv_antes_m = inv_antes.transpose().mean()\n",
    "inv_antes_m"
   ]
  },
  {
   "cell_type": "code",
   "execution_count": 972,
   "metadata": {},
   "outputs": [
    {
     "data": {
      "text/plain": [
       "Foreign direct investment, net outflows (% of GDP)\n",
       "Malta         0.936258\n",
       "Slovenia      2.119707\n",
       "Hungary      19.702596\n",
       "Japan         1.443728\n",
       "Mexico        0.608136\n",
       "Argentina     0.588448\n",
       "dtype: float64"
      ]
     },
     "execution_count": 972,
     "metadata": {},
     "output_type": "execute_result"
    }
   ],
   "source": [
    "inv_depois = Investimento_estrangeiro_Outflow_index.loc[[\"Malta\", \"Slovenia\", \"Hungary\",\"Japan\",\"Mexico\",\"Argentina\"],['2004','2005','2006','2007','2008','2009']]\n",
    "# img.transpose()\n",
    "inv_depois_m = inv_depois.transpose().mean()\n",
    "inv_depois_m"
   ]
  },
  {
   "cell_type": "code",
   "execution_count": 973,
   "metadata": {},
   "outputs": [
    {
     "data": {
      "image/png": "[encoded data removed]",
      "text/plain": [
       "<Figure size 432x288 with 1 Axes>"
      ]
     },
     "metadata": {
      "needs_background": "light"
     },
     "output_type": "display_data"
    }
   ],
   "source": [
    "media = {\"Malta\":[2.209607,0.936258],\"Slovenia\":[0.849792,2.119707],\"Hungary\":[0.996807,19.702596],\"Japan\":[0.715788,1.443728],\"Mexico\":[0.401867,0.608136],\"Argentina\":[0.235184,0.588448]}\n",
    "dados_media = pd.DataFrame.from_dict(media, orient = \"index\", columns = [\"5 anos antes da entrada\",\"5 anos depois da entrada\"])\n",
    "\n",
    "dados_media.plot(kind = 'bar', color = (\"purple\",\"blue\"))\n",
    "plt.ylabel(\"Imigração\")\n",
    "plt.title('Média do crescimento imigratório')\n",
    "plt.grid()\n",
    "plt.tight_layout()"
   ]
  },
  {
   "cell_type": "markdown",
   "metadata": {},
   "source": [
    "## Correlacionando"
   ]
  },
  {
   "cell_type": "code",
   "execution_count": 1067,
   "metadata": {},
   "outputs": [],
   "source": [
    "x = inv.loc[[\"Malta\", \"Slovenia\", \"Hungary\",\"Japan\",\"Mexico\",\"Argentina\"],['2004']]\n",
    "# x "
   ]
  },
  {
   "cell_type": "code",
   "execution_count": 1068,
   "metadata": {},
   "outputs": [],
   "source": [
    "y = img.loc[[\"Malta\", \"Slovenia\", \"Hungary\",\"Japan\",\"Mexico\",\"Argentina\"],[2005]]\n",
    "# y"
   ]
  },
  {
   "cell_type": "code",
   "execution_count": 1084,
   "metadata": {
    "scrolled": true
   },
   "outputs": [
    {
     "data": {
      "text/html": [
       "<div>\n",
       "<style scoped>\n",
       "    .dataframe tbody tr th:only-of-type {\n",
       "        vertical-align: middle;\n",
       "    }\n",
       "\n",
       "    .dataframe tbody tr th {\n",
       "        vertical-align: top;\n",
       "    }\n",
       "\n",
       "    .dataframe thead th {\n",
       "        text-align: right;\n",
       "    }\n",
       "</style>\n",
       "<table border=\"1\" class=\"dataframe\">\n",
       "  <thead>\n",
       "    <tr style=\"text-align: right;\">\n",
       "      <th></th>\n",
       "      <th>Investimento direto estrangeiro (% do PIB)</th>\n",
       "      <th>Estoque de migração internacional</th>\n",
       "    </tr>\n",
       "    <tr>\n",
       "      <th>country</th>\n",
       "      <th></th>\n",
       "      <th></th>\n",
       "    </tr>\n",
       "  </thead>\n",
       "  <tbody>\n",
       "    <tr>\n",
       "      <th>Malta</th>\n",
       "      <td>0.130620</td>\n",
       "      <td>6.180</td>\n",
       "    </tr>\n",
       "    <tr>\n",
       "      <th>Slovenia</th>\n",
       "      <td>1.625108</td>\n",
       "      <td>9.880</td>\n",
       "    </tr>\n",
       "    <tr>\n",
       "      <th>Hungary</th>\n",
       "      <td>1.094550</td>\n",
       "      <td>3.630</td>\n",
       "    </tr>\n",
       "    <tr>\n",
       "      <th>Japan</th>\n",
       "      <td>0.672129</td>\n",
       "      <td>1.590</td>\n",
       "    </tr>\n",
       "    <tr>\n",
       "      <th>Mexico</th>\n",
       "      <td>0.583316</td>\n",
       "      <td>0.649</td>\n",
       "    </tr>\n",
       "    <tr>\n",
       "      <th>Argentina</th>\n",
       "      <td>0.441450</td>\n",
       "      <td>4.270</td>\n",
       "    </tr>\n",
       "  </tbody>\n",
       "</table>\n",
       "</div>"
      ],
      "text/plain": [
       "           Investimento direto estrangeiro (% do PIB)  \\\n",
       "country                                                 \n",
       "Malta                                        0.130620   \n",
       "Slovenia                                     1.625108   \n",
       "Hungary                                      1.094550   \n",
       "Japan                                        0.672129   \n",
       "Mexico                                       0.583316   \n",
       "Argentina                                    0.441450   \n",
       "\n",
       "           Estoque de migração internacional  \n",
       "country                                       \n",
       "Malta                                  6.180  \n",
       "Slovenia                               9.880  \n",
       "Hungary                                3.630  \n",
       "Japan                                  1.590  \n",
       "Mexico                                 0.649  \n",
       "Argentina                              4.270  "
      ]
     },
     "execution_count": 1084,
     "metadata": {},
     "output_type": "execute_result"
    }
   ],
   "source": [
    "data = x.join(y)\n",
    "data\n",
    "v = data.columns = ['Investimento direto estrangeiro (% do PIB)', 'Estoque de migração internacional']\n",
    "data"
   ]
  },
  {
   "cell_type": "code",
   "execution_count": 1085,
   "metadata": {},
   "outputs": [],
   "source": [
    "w = pt.loc[[\"Malta\", \"Slovenia\", \"Hungary\",\"Japan\",\"Mexico\",\"Argentina\"],[2005]]\n",
    "# w"
   ]
  },
  {
   "cell_type": "code",
   "execution_count": 1086,
   "metadata": {},
   "outputs": [
    {
     "data": {
      "text/html": [
       "<div>\n",
       "<style scoped>\n",
       "    .dataframe tbody tr th:only-of-type {\n",
       "        vertical-align: middle;\n",
       "    }\n",
       "\n",
       "    .dataframe tbody tr th {\n",
       "        vertical-align: top;\n",
       "    }\n",
       "\n",
       "    .dataframe thead th {\n",
       "        text-align: right;\n",
       "    }\n",
       "</style>\n",
       "<table border=\"1\" class=\"dataframe\">\n",
       "  <thead>\n",
       "    <tr style=\"text-align: right;\">\n",
       "      <th></th>\n",
       "      <th>Investimento direto estrangeiro (% do PIB)</th>\n",
       "      <th>Estoque de migração internacional</th>\n",
       "      <th>Percentagem de trabalhadores assalariados</th>\n",
       "    </tr>\n",
       "    <tr>\n",
       "      <th>country</th>\n",
       "      <th></th>\n",
       "      <th></th>\n",
       "      <th></th>\n",
       "    </tr>\n",
       "  </thead>\n",
       "  <tbody>\n",
       "    <tr>\n",
       "      <th>Malta</th>\n",
       "      <td>0.130620</td>\n",
       "      <td>6.180</td>\n",
       "      <td>86.9</td>\n",
       "    </tr>\n",
       "    <tr>\n",
       "      <th>Slovenia</th>\n",
       "      <td>1.625108</td>\n",
       "      <td>9.880</td>\n",
       "      <td>92.1</td>\n",
       "    </tr>\n",
       "    <tr>\n",
       "      <th>Hungary</th>\n",
       "      <td>1.094550</td>\n",
       "      <td>3.630</td>\n",
       "      <td>87.5</td>\n",
       "    </tr>\n",
       "    <tr>\n",
       "      <th>Japan</th>\n",
       "      <td>0.672129</td>\n",
       "      <td>1.590</td>\n",
       "      <td>88.1</td>\n",
       "    </tr>\n",
       "    <tr>\n",
       "      <th>Mexico</th>\n",
       "      <td>0.583316</td>\n",
       "      <td>0.649</td>\n",
       "      <td>69.6</td>\n",
       "    </tr>\n",
       "    <tr>\n",
       "      <th>Argentina</th>\n",
       "      <td>0.441450</td>\n",
       "      <td>4.270</td>\n",
       "      <td>74.8</td>\n",
       "    </tr>\n",
       "  </tbody>\n",
       "</table>\n",
       "</div>"
      ],
      "text/plain": [
       "           Investimento direto estrangeiro (% do PIB)  \\\n",
       "country                                                 \n",
       "Malta                                        0.130620   \n",
       "Slovenia                                     1.625108   \n",
       "Hungary                                      1.094550   \n",
       "Japan                                        0.672129   \n",
       "Mexico                                       0.583316   \n",
       "Argentina                                    0.441450   \n",
       "\n",
       "           Estoque de migração internacional  \\\n",
       "country                                        \n",
       "Malta                                  6.180   \n",
       "Slovenia                               9.880   \n",
       "Hungary                                3.630   \n",
       "Japan                                  1.590   \n",
       "Mexico                                 0.649   \n",
       "Argentina                              4.270   \n",
       "\n",
       "           Percentagem de trabalhadores assalariados  \n",
       "country                                               \n",
       "Malta                                           86.9  \n",
       "Slovenia                                        92.1  \n",
       "Hungary                                         87.5  \n",
       "Japan                                           88.1  \n",
       "Mexico                                          69.6  \n",
       "Argentina                                       74.8  "
      ]
     },
     "execution_count": 1086,
     "metadata": {},
     "output_type": "execute_result"
    }
   ],
   "source": [
    "data2 = data.join(w)\n",
    "h = data2.columns = ['Investimento direto estrangeiro (% do PIB)','Estoque de migração internacional', 'Percentagem de trabalhadores assalariados']\n",
    "data2"
   ]
  },
  {
   "cell_type": "code",
   "execution_count": 1093,
   "metadata": {
    "scrolled": true
   },
   "outputs": [
    {
     "data": {
      "image/png": "[encoded data removed]",
      "text/plain": [
       "<Figure size 432x288 with 1 Axes>"
      ]
     },
     "metadata": {
      "needs_background": "light"
     },
     "output_type": "display_data"
    },
    {
     "name": "stdout",
     "output_type": "stream",
     "text": [
      "Correlação: 0.4887279680810669\n",
      "\n"
     ]
    },
    {
     "data": {
      "text/html": [
       "<div>\n",
       "<style scoped>\n",
       "    .dataframe tbody tr th:only-of-type {\n",
       "        vertical-align: middle;\n",
       "    }\n",
       "\n",
       "    .dataframe tbody tr th {\n",
       "        vertical-align: top;\n",
       "    }\n",
       "\n",
       "    .dataframe thead th {\n",
       "        text-align: right;\n",
       "    }\n",
       "</style>\n",
       "<table border=\"1\" class=\"dataframe\">\n",
       "  <thead>\n",
       "    <tr style=\"text-align: right;\">\n",
       "      <th></th>\n",
       "      <th>Investimento direto estrangeiro (% do PIB)</th>\n",
       "      <th>Estoque de migração internacional</th>\n",
       "    </tr>\n",
       "  </thead>\n",
       "  <tbody>\n",
       "    <tr>\n",
       "      <th>Investimento direto estrangeiro (% do PIB)</th>\n",
       "      <td>1.000000</td>\n",
       "      <td>0.488728</td>\n",
       "    </tr>\n",
       "    <tr>\n",
       "      <th>Estoque de migração internacional</th>\n",
       "      <td>0.488728</td>\n",
       "      <td>1.000000</td>\n",
       "    </tr>\n",
       "  </tbody>\n",
       "</table>\n",
       "</div>"
      ],
      "text/plain": [
       "                                            Investimento direto estrangeiro (% do PIB)  \\\n",
       "Investimento direto estrangeiro (% do PIB)                                    1.000000   \n",
       "Estoque de migração internacional                                             0.488728   \n",
       "\n",
       "                                            Estoque de migração internacional  \n",
       "Investimento direto estrangeiro (% do PIB)                           0.488728  \n",
       "Estoque de migração internacional                                    1.000000  "
      ]
     },
     "execution_count": 1093,
     "metadata": {},
     "output_type": "execute_result"
    }
   ],
   "source": [
    "cor=data.corr()\n",
    "\n",
    "sns.regplot(data['Investimento direto estrangeiro (% do PIB)'], data['Estoque de migração internacional'], color=('red'))\n",
    "plt.xlabel('Investimento direto estrangeiro (% do PIB)')\n",
    "plt.ylabel('Estoque de migração internacional')\n",
    "plt.grid()\n",
    "plt.show()\n",
    "\n",
    "print(\"Correlação: {}\\n\".format(cor['Investimento direto estrangeiro (% do PIB)']['Estoque de migração internacional']))\n",
    "\n",
    "\n",
    "\n",
    "cor"
   ]
  },
  {
   "cell_type": "code",
   "execution_count": 1094,
   "metadata": {},
   "outputs": [
    {
     "data": {
      "image/png": "[encoded data removed]",
      "text/plain": [
       "<Figure size 432x288 with 1 Axes>"
      ]
     },
     "metadata": {
      "needs_background": "light"
     },
     "output_type": "display_data"
    },
    {
     "name": "stdout",
     "output_type": "stream",
     "text": [
      "Correlação: 0.6121033980343373\n",
      "\n"
     ]
    },
    {
     "data": {
      "text/html": [
       "<div>\n",
       "<style scoped>\n",
       "    .dataframe tbody tr th:only-of-type {\n",
       "        vertical-align: middle;\n",
       "    }\n",
       "\n",
       "    .dataframe tbody tr th {\n",
       "        vertical-align: top;\n",
       "    }\n",
       "\n",
       "    .dataframe thead th {\n",
       "        text-align: right;\n",
       "    }\n",
       "</style>\n",
       "<table border=\"1\" class=\"dataframe\">\n",
       "  <thead>\n",
       "    <tr style=\"text-align: right;\">\n",
       "      <th></th>\n",
       "      <th>Investimento direto estrangeiro (% do PIB)</th>\n",
       "      <th>Estoque de migração internacional</th>\n",
       "      <th>Percentagem de trabalhadores assalariados</th>\n",
       "    </tr>\n",
       "  </thead>\n",
       "  <tbody>\n",
       "    <tr>\n",
       "      <th>Investimento direto estrangeiro (% do PIB)</th>\n",
       "      <td>1.000000</td>\n",
       "      <td>0.488728</td>\n",
       "      <td>0.490297</td>\n",
       "    </tr>\n",
       "    <tr>\n",
       "      <th>Estoque de migração internacional</th>\n",
       "      <td>0.488728</td>\n",
       "      <td>1.000000</td>\n",
       "      <td>0.612103</td>\n",
       "    </tr>\n",
       "    <tr>\n",
       "      <th>Percentagem de trabalhadores assalariados</th>\n",
       "      <td>0.490297</td>\n",
       "      <td>0.612103</td>\n",
       "      <td>1.000000</td>\n",
       "    </tr>\n",
       "  </tbody>\n",
       "</table>\n",
       "</div>"
      ],
      "text/plain": [
       "                                            Investimento direto estrangeiro (% do PIB)  \\\n",
       "Investimento direto estrangeiro (% do PIB)                                    1.000000   \n",
       "Estoque de migração internacional                                             0.488728   \n",
       "Percentagem de trabalhadores assalariados                                     0.490297   \n",
       "\n",
       "                                            Estoque de migração internacional  \\\n",
       "Investimento direto estrangeiro (% do PIB)                           0.488728   \n",
       "Estoque de migração internacional                                    1.000000   \n",
       "Percentagem de trabalhadores assalariados                            0.612103   \n",
       "\n",
       "                                            Percentagem de trabalhadores assalariados  \n",
       "Investimento direto estrangeiro (% do PIB)                                   0.490297  \n",
       "Estoque de migração internacional                                            0.612103  \n",
       "Percentagem de trabalhadores assalariados                                    1.000000  "
      ]
     },
     "execution_count": 1094,
     "metadata": {},
     "output_type": "execute_result"
    }
   ],
   "source": [
    "cor=data2.corr()\n",
    "\n",
    "sns.regplot(data2['Estoque de migração internacional'], data2['Percentagem de trabalhadores assalariados'], color=('red'))\n",
    "plt.xlabel('Estoque de migração internacional')\n",
    "plt.ylabel('Percentagem de trabalhadores assalariados')\n",
    "plt.grid()\n",
    "plt.show()\n",
    "\n",
    "print(\"Correlação: {}\\n\".format(cor['Estoque de migração internacional']['Percentagem de trabalhadores assalariados']))\n",
    "\n",
    "\n",
    "\n",
    "cor"
   ]
  },
  {
   "cell_type": "markdown",
   "metadata": {},
   "source": [
    "FAZER MEDIA DOS 10 anos antes e depois da entrada e comparar"
   ]
  },
  {
   "cell_type": "markdown",
   "metadata": {},
   "source": [
    "colocar a fonte das bases de dados (ABOUT)"
   ]
  },
  {
   "cell_type": "code",
   "execution_count": null,
   "metadata": {},
   "outputs": [],
   "source": []
  }
 ],
 "metadata": {
  "kernelspec": {
   "display_name": "Python 3",
   "language": "python",
   "name": "python3"
  },
  "language_info": {
   "codemirror_mode": {
    "name": "ipython",
    "version": 3
   },
   "file_extension": ".py",
   "mimetype": "text/x-python",
   "name": "python",
   "nbconvert_exporter": "python",
   "pygments_lexer": "ipython3",
   "version": "3.7.1"
  }
 },
 "nbformat": 4,
 "nbformat_minor": 2
}
